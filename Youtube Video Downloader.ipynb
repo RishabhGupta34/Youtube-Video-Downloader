{
 "cells": [
  {
   "cell_type": "code",
   "execution_count": null,
   "metadata": {},
   "outputs": [],
   "source": [
    "import pytube\n",
    "\n",
    "#Which video to download?Enter the link\n",
    "print(\"Enter the video link\")\n",
    "link=input()\n",
    "\n",
    "#This gets all the streams of videos available\n",
    "vid=pytube.YouTube(link)\n",
    "videos=vid.streams.all()\n",
    "s=1\n",
    "#Printing all the videos retrieved\n",
    "for i in videos:\n",
    "    print(str(s)+\".\"+str(i))\n",
    "    s+=1\n",
    "\n",
    "#Downloading a specific video\n",
    "print(\"Enter the video no. to download\")\n",
    "v=int(input())\n",
    "\n",
    "#Getting the required video\n",
    "video=videos[v-1]\n",
    "\n",
    "#Enter the destination to download the video\n",
    "print(\"Enter the destination to download\")\n",
    "destination=input()\n",
    "video.download(destination)"
   ]
  }
 ],
 "metadata": {
  "kernelspec": {
   "display_name": "Python 3",
   "language": "python",
   "name": "python3"
  },
  "language_info": {
   "codemirror_mode": {
    "name": "ipython",
    "version": 3
   },
   "file_extension": ".py",
   "mimetype": "text/x-python",
   "name": "python",
   "nbconvert_exporter": "python",
   "pygments_lexer": "ipython3",
   "version": "3.6.4"
  }
 },
 "nbformat": 4,
 "nbformat_minor": 2
}
